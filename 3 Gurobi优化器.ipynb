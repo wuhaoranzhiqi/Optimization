{
 "cells": [
  {
   "cell_type": "code",
   "execution_count": 6,
   "id": "602084b1",
   "metadata": {},
   "outputs": [],
   "source": [
    "from IPython.core.interactiveshell import InteractiveShell\n",
    "InteractiveShell.ast_node_interactivity = \"all\""
   ]
  },
  {
   "cell_type": "markdown",
   "id": "ca292298",
   "metadata": {},
   "source": [
    "# 数据结构"
   ]
  },
  {
   "cell_type": "markdown",
   "id": "f14426f9",
   "metadata": {},
   "source": [
    "## Multidict"
   ]
  },
  {
   "cell_type": "code",
   "execution_count": 2,
   "id": "345e94d3",
   "metadata": {},
   "outputs": [],
   "source": [
    "import gurobipy as grb"
   ]
  },
  {
   "cell_type": "code",
   "execution_count": 8,
   "id": "537c284c",
   "metadata": {},
   "outputs": [],
   "source": [
    "# multidict的用法\n",
    "student, chinese, math, english = grb.multidict({\n",
    "    'student1': [1, 2, 3],\n",
    "    'student2': [2, 3, 4],\n",
    "    'student3': [3, 4, 5],\n",
    "    'student4': [4, 5, 6]\n",
    "})"
   ]
  },
  {
   "cell_type": "code",
   "execution_count": 9,
   "id": "8dd6a8ff",
   "metadata": {},
   "outputs": [
    {
     "name": "stdout",
     "output_type": "stream",
     "text": [
      "['student1', 'student2', 'student3', 'student4']\n",
      "{'student1': 1, 'student2': 2, 'student3': 3, 'student4': 4}\n",
      "{'student1': 2, 'student2': 3, 'student3': 4, 'student4': 5}\n"
     ]
    }
   ],
   "source": [
    "print(student)\n",
    "print(chinese)\n",
    "print(math)\n"
   ]
  },
  {
   "cell_type": "markdown",
   "id": "10682cda",
   "metadata": {},
   "source": [
    "## Tuplelist"
   ]
  },
  {
   "cell_type": "markdown",
   "id": "11fc25e4",
   "metadata": {},
   "source": [
    "形如: [(1, 2), (1, 3)]"
   ]
  },
  {
   "cell_type": "code",
   "execution_count": 52,
   "id": "99988a2b",
   "metadata": {},
   "outputs": [],
   "source": [
    "# 创建tuplelist对象\n",
    "t1 = grb.tuplelist([(1, 2), (1, 3), (2, 3), (2, 5)])"
   ]
  },
  {
   "cell_type": "code",
   "execution_count": 53,
   "id": "879b7d45",
   "metadata": {
    "scrolled": true
   },
   "outputs": [
    {
     "name": "stdout",
     "output_type": "stream",
     "text": [
      "<gurobi.tuplelist (1 tuples, 2 values each):\n",
      " ( 1 , 3 )\n",
      ">\n",
      "<gurobi.tuplelist (2 tuples, 2 values each):\n",
      " ( 1 , 3 )\n",
      " ( 2 , 3 )\n",
      ">\n"
     ]
    }
   ],
   "source": [
    "# 输出第一个值是1的元素, 第二个值是3的元素\n",
    "print(t1.select(1, 3))\n",
    "# 输出第二值是3的元素\n",
    "print(t1.select('*', 3))"
   ]
  },
  {
   "cell_type": "code",
   "execution_count": 54,
   "id": "e7a23526",
   "metadata": {},
   "outputs": [],
   "source": [
    "# 添加一个元素\n",
    "t1.append((3, 5))"
   ]
  },
  {
   "cell_type": "code",
   "execution_count": 56,
   "id": "95dfb10a",
   "metadata": {},
   "outputs": [
    {
     "name": "stdout",
     "output_type": "stream",
     "text": [
      "[(1, 2), (1, 3)]\n"
     ]
    }
   ],
   "source": [
    "# 使用迭代的语法实现select功能\n",
    "print([(x, y) for x, y in t1 if x == 1])"
   ]
  },
  {
   "cell_type": "markdown",
   "id": "0fca2817",
   "metadata": {},
   "source": [
    "## Tupledict"
   ]
  },
  {
   "cell_type": "markdown",
   "id": "ae7f3b1f",
   "metadata": {},
   "source": [
    "形如: {(1, 1): 1, (1, 2): 0.3, (1, 3): 0.4}"
   ]
  },
  {
   "cell_type": "code",
   "execution_count": 57,
   "id": "7593c3c2",
   "metadata": {},
   "outputs": [
    {
     "name": "stdout",
     "output_type": "stream",
     "text": [
      "<gurobi.LinExpr: <gurobi.Var *Awaiting Model Update*> + <gurobi.Var *Awaiting Model Update*> + <gurobi.Var *Awaiting Model Update*>>\n"
     ]
    }
   ],
   "source": [
    "import gurobipy as grb\n",
    "\n",
    "model = grb.Model()\n",
    "\n",
    "# 定义变量的下标\n",
    "tl = [(1, 1), (1, 2), (1, 3),\n",
    "      (2, 1), (2, 2), (2, 3),\n",
    "      (3, 1), (3, 2), (3, 3)]\n",
    "vars = model.addVars(tl, name=\"d\")\n",
    "\n",
    "# 基于元素下标的操作\n",
    "print(sum(vars.select(1, '*')))\n",
    "\n",
    "# 另一种写法\n",
    "vars.sum(1, \"*\")"
   ]
  },
  {
   "cell_type": "code",
   "execution_count": 62,
   "id": "096997d8",
   "metadata": {},
   "outputs": [
    {
     "name": "stdout",
     "output_type": "stream",
     "text": [
      "<gurobi.LinExpr: <gurobi.Var *Awaiting Model Update*> + 0.3 <gurobi.Var *Awaiting Model Update*> + 0.4 <gurobi.Var *Awaiting Model Update*>>\n"
     ]
    }
   ],
   "source": [
    "# 如果变量的系数不是1, 用prod方法建立线性表达式\n",
    "\n",
    "# 创建系数矩阵\n",
    "c1 = [(1, 1), (1, 2), (1, 3)]\n",
    "coeff = grb.tupledict(c1)\n",
    "# 赋值权重\n",
    "coeff[(1, 1)] = 1\n",
    "coeff[(1, 2)] = 0.3\n",
    "coeff[(1, 3)] = 0.4\n",
    "\n",
    "# 计算\n",
    "print(vars.prod(coeff, 1, \"*\"))"
   ]
  },
  {
   "cell_type": "code",
   "execution_count": 63,
   "id": "55acd3bb",
   "metadata": {},
   "outputs": [
    {
     "data": {
      "text/plain": [
       "{0: <gurobi.Constr *Awaiting Model Update*>,\n",
       " 1: <gurobi.Constr *Awaiting Model Update*>,\n",
       " 2: <gurobi.Constr *Awaiting Model Update*>}"
      ]
     },
     "execution_count": 63,
     "metadata": {},
     "output_type": "execute_result"
    }
   ],
   "source": [
    "# tupledict快速创建约束条件\n",
    "m = grb.Model()\n",
    "x = m.addVars(3, 4, vtype=grb.GRB.BINARY, name=\"x\")\n",
    "m.addConstrs( (x.sum(i, '*') <= 1 for i in range(3)), name=\"con\" )\n",
    "# 需要updata一下\n",
    "m.update()\n",
    "# 存储模型文件到系统中\n",
    "m.write(\"tupledict_vars.lp\")"
   ]
  },
  {
   "cell_type": "markdown",
   "id": "fcf82707",
   "metadata": {},
   "source": [
    "# 应用实例"
   ]
  },
  {
   "cell_type": "code",
   "execution_count": 64,
   "id": "948f33e2",
   "metadata": {},
   "outputs": [],
   "source": [
    "import gurobipy as grb"
   ]
  },
  {
   "cell_type": "code",
   "execution_count": 65,
   "id": "f95c3488",
   "metadata": {},
   "outputs": [
    {
     "data": {
      "text/plain": [
       "{('Detroit', 'Boston'): <gurobi.Constr *Awaiting Model Update*>,\n",
       " ('Detroit', 'New York'): <gurobi.Constr *Awaiting Model Update*>,\n",
       " ('Detroit', 'Seattle'): <gurobi.Constr *Awaiting Model Update*>,\n",
       " ('Denver', 'Boston'): <gurobi.Constr *Awaiting Model Update*>,\n",
       " ('Denver', 'New York'): <gurobi.Constr *Awaiting Model Update*>,\n",
       " ('Denver', 'Seattle'): <gurobi.Constr *Awaiting Model Update*>}"
      ]
     },
     "execution_count": 65,
     "metadata": {},
     "output_type": "execute_result"
    },
    {
     "data": {
      "text/plain": [
       "{('Pencils', 'Detroit'): <gurobi.Constr *Awaiting Model Update*>,\n",
       " ('Pencils', 'Denver'): <gurobi.Constr *Awaiting Model Update*>,\n",
       " ('Pencils', 'Boston'): <gurobi.Constr *Awaiting Model Update*>,\n",
       " ('Pencils', 'New York'): <gurobi.Constr *Awaiting Model Update*>,\n",
       " ('Pencils', 'Seattle'): <gurobi.Constr *Awaiting Model Update*>,\n",
       " ('Pens', 'Detroit'): <gurobi.Constr *Awaiting Model Update*>,\n",
       " ('Pens', 'Denver'): <gurobi.Constr *Awaiting Model Update*>,\n",
       " ('Pens', 'Boston'): <gurobi.Constr *Awaiting Model Update*>,\n",
       " ('Pens', 'New York'): <gurobi.Constr *Awaiting Model Update*>,\n",
       " ('Pens', 'Seattle'): <gurobi.Constr *Awaiting Model Update*>}"
      ]
     },
     "execution_count": 65,
     "metadata": {},
     "output_type": "execute_result"
    },
    {
     "name": "stdout",
     "output_type": "stream",
     "text": [
      "Gurobi Optimizer version 9.1.2 build v9.1.2rc0 (win64)\n",
      "Thread count: 6 physical cores, 12 logical processors, using up to 12 threads\n",
      "Optimize a model with 16 rows, 12 columns and 36 nonzeros\n",
      "Model fingerprint: 0xc43e5943\n",
      "Coefficient statistics:\n",
      "  Matrix range     [1e+00, 1e+00]\n",
      "  Objective range  [1e+01, 8e+01]\n",
      "  Bounds range     [0e+00, 0e+00]\n",
      "  RHS range        [1e+01, 1e+02]\n",
      "Presolve removed 16 rows and 12 columns\n",
      "Presolve time: 0.01s\n",
      "Presolve: All rows and columns removed\n",
      "Iteration    Objective       Primal Inf.    Dual Inf.      Time\n",
      "       0    5.5000000e+03   0.000000e+00   2.000000e+01      0s\n",
      "Extra simplex iterations after uncrush: 1\n",
      "       1    5.5000000e+03   0.000000e+00   0.000000e+00      0s\n",
      "\n",
      "Solved in 1 iterations and 0.02 seconds\n",
      "Optimal objective  5.500000000e+03\n",
      "\n",
      "Optimal flows for Pencils:\n",
      "Detroit -> Boston: 50\n",
      "Denver -> New York: 50\n",
      "Denver -> Seattle: 10\n",
      "\n",
      "Optimal flows for Pens:\n",
      "Detroit -> Boston: 30\n",
      "Detroit -> New York: 30\n",
      "Denver -> Boston: 10\n",
      "Denver -> Seattle: 30\n"
     ]
    }
   ],
   "source": [
    "# 两种商品\n",
    "commodities = [\"Pencils\", \"Pens\"]\n",
    "\n",
    "# 2个产地 + 3个目的地\n",
    "nodes = [\"Detroit\", \"Denver\", \"Boston\", \"New York\", \"Seattle\"]\n",
    "\n",
    "# 每条弧的容量\n",
    "arcs, capacity = grb.multidict({\n",
    "    ('Detroit', 'Boston'): 100,\n",
    "    ('Detroit', 'New York'): 80,\n",
    "    ('Detroit', 'Seattle'): 120,\n",
    "    ('Denver', 'Boston'): 120,\n",
    "    ('Denver', 'New York'): 120,\n",
    "    ('Denver', 'Seattle'): 120\n",
    "})\n",
    "\n",
    "# 商品在每条弧上的运输成本\n",
    "cost = {\n",
    "    ('Pencils', 'Detroit', 'Boston'): 10,\n",
    "    ('Pencils', 'Detroit', 'New York'): 20,\n",
    "    ('Pencils', 'Detroit', 'Seattle'): 60,\n",
    "    ('Pencils', 'Denver', 'Boston'): 40,\n",
    "    ('Pencils', 'Denver', 'New York'): 40,\n",
    "    ('Pencils', 'Denver', 'Seattle'): 30,\n",
    "    ('Pens', 'Detroit', 'Boston'): 20,\n",
    "    ('Pens', 'Detroit', 'New York'): 20,\n",
    "    ('Pens', 'Detroit', 'Seattle'): 80,\n",
    "    ('Pens', 'Denver', 'Boston'): 60,\n",
    "    ('Pens', 'Denver', 'New York'): 70,\n",
    "    ('Pens', 'Denver', 'Seattle'): 30}\n",
    "\n",
    "# 商品在不同节点的流入流出，即需求量\n",
    "# 正数表示产地，负数表示需求量\n",
    "# 是tupledict形式，可以用select，sum等加快变量选取\n",
    "inflow = {\n",
    "    ('Pencils', 'Detroit'): 50,\n",
    "    ('Pencils', 'Denver'): 60,\n",
    "    ('Pencils', 'Boston'): -50,\n",
    "    ('Pencils', 'New York'): -50,\n",
    "    ('Pencils', 'Seattle'): -10,\n",
    "    ('Pens', 'Detroit'): 60,\n",
    "    ('Pens', 'Denver'): 40,\n",
    "    ('Pens', 'Boston'): -40,\n",
    "    ('Pens', 'New York'): -30,\n",
    "    ('Pens', 'Seattle'): -30}\n",
    "\n",
    "# 创建模型\n",
    "m = grb.Model('netflow')\n",
    "\n",
    "# 创建变量\n",
    "# flow是tupledict类型的变量，因此可以使用select方法快速筛选\n",
    "# 键是 ('Pencils', 'Detroit', 'Boston') 格式，可以使用select方法快速筛选，然后出选出来的变量sum求和\n",
    "# 值是 cost，表示商品从产地到目的地的需求量\n",
    "# 值还有系数，就是cost\n",
    "flow = m.addVars(commodities, arcs, obj=cost, name=\"flow\")\n",
    "\n",
    "# 添加容量约束，使用到了迭代表达式\n",
    "# 此处迭代中，i是产地，j是目的地\n",
    "# capacity[i,j] 表示i->j的弧的容量\n",
    "# flow.sum('*',i,j) 从i->j的所有不同商品的总量求和\n",
    "m.addConstrs((flow.sum('*', i, j) <= capacity[i, j] for i, j in arcs), \"cap\")\n",
    "\n",
    "# 添加节点的流入=流出的约束\n",
    "# h表示商品， j表示节点包括产地和目的地\n",
    "# flow.sum(h,'*',j) 表示商品h经过所有中间节点到达j后的总数量\n",
    "# flow.sum(h,j,'*') 表示商品h从j节点流出去的数量\n",
    "# inflow[h,j] 表示h在j节点的需求量\n",
    "# 理解起来就是：\n",
    "# 商品h在节点j，流入-流出 = 需求\n",
    "# 流出可以表示产地，也可以表示中转节点\n",
    "m.addConstrs((flow.sum(h, '*', j) + inflow[h, j] == flow.sum(h, j, '*') for h in commodities for j in nodes), \"node\")\n",
    "\n",
    "# 求解模型\n",
    "m.optimize()\n",
    "\n",
    "# 打印结果\n",
    "if m.status == grb.GRB.Status.OPTIMAL:\n",
    "    solution = m.getAttr('x', flow)\n",
    "    for h in commodities:\n",
    "        print('\\nOptimal flows for %s:' % h)\n",
    "        for i, j in arcs:\n",
    "            if solution[h, i, j] > 0:\n",
    "                print('%s -> %s: %g' % (i, j, solution[h, i, j]))\n",
    "# 求解结果如下：\n",
    "# Optimal flows for Pencils:\n",
    "#     Detroit -> Boston: 50\n",
    "#     Denver -> New York: 50\n",
    "#     Denver -> Seattle: 10\n",
    "#\n",
    "# Optimal flows for Pens:\n",
    "#     Detroit -> Boston: 30\n",
    "#     Detroit -> New York: 30\n",
    "#     Denver -> Boston: 10\n",
    "#     Denver -> Seattle: 30\n"
   ]
  },
  {
   "cell_type": "markdown",
   "id": "398dafa0",
   "metadata": {},
   "source": [
    "# 参数与属性"
   ]
  },
  {
   "cell_type": "markdown",
   "id": "22f8750f",
   "metadata": {},
   "source": [
    "## 修改参数"
   ]
  },
  {
   "cell_type": "markdown",
   "id": "18d9b40f",
   "metadata": {},
   "source": [
    "**修改参数**\n",
    "\n",
    "model = grb.Model()\n",
    "\n",
    "**方法1**\n",
    "\n",
    "model.setParam(\"TimeLimit\", 600)\n",
    "\n",
    "**方法2**\n",
    "\n",
    "model.setParam(GRB.param.TimeLimit, 600)\n",
    "\n",
    "**方法3**\n",
    "\n",
    "model.Params.timeLimit = 600"
   ]
  },
  {
   "cell_type": "code",
   "execution_count": 67,
   "id": "1e3c9648",
   "metadata": {},
   "outputs": [
    {
     "name": "stdout",
     "output_type": "stream",
     "text": [
      "Read LP format model from file tupledict_vars.lp\n",
      "Reading time = 0.00 seconds\n",
      ": 3 rows, 12 columns, 12 nonzeros\n",
      "Changed value of parameter timeLimit to 2.0\n",
      "   Prev: inf  Min: 0.0  Max: inf  Default: inf\n"
     ]
    }
   ],
   "source": [
    "# 实例\n",
    "model_file = \"tupledict_vars.lp\"\n",
    "m = grb.read(model_file)\n",
    "\n",
    "# 参数设定\n",
    "m.Params.timeLimit = 2\n",
    "\n",
    "# 重置所有参数\n",
    "m.reset()\n",
    "\n",
    "# 重置一个参数为默认\n",
    "m.Params.timeLimit = \"default\""
   ]
  },
  {
   "cell_type": "code",
   "execution_count": 68,
   "id": "a80f79a4",
   "metadata": {
    "collapsed": true
   },
   "outputs": [
    {
     "name": "stdout",
     "output_type": "stream",
     "text": [
      "Unable to open file 'tune_model.lp' for input\n"
     ]
    },
    {
     "ename": "GurobiError",
     "evalue": "Unable to read model",
     "output_type": "error",
     "traceback": [
      "\u001b[1;31m---------------------------------------------------------------------------\u001b[0m",
      "\u001b[1;31mGurobiError\u001b[0m                               Traceback (most recent call last)",
      "\u001b[1;32m<ipython-input-68-55a31ad73c6d>\u001b[0m in \u001b[0;36m<module>\u001b[1;34m()\u001b[0m\n\u001b[0;32m      4\u001b[0m \u001b[1;31m# 2. 可以使用自带的调优器\u001b[0m\u001b[1;33m\u001b[0m\u001b[1;33m\u001b[0m\u001b[1;33m\u001b[0m\u001b[0m\n\u001b[0;32m      5\u001b[0m \u001b[1;33m\u001b[0m\u001b[0m\n\u001b[1;32m----> 6\u001b[1;33m \u001b[0mmodel\u001b[0m \u001b[1;33m=\u001b[0m \u001b[0mgrb\u001b[0m\u001b[1;33m.\u001b[0m\u001b[0mread\u001b[0m\u001b[1;33m(\u001b[0m\u001b[1;34m\"tune_model.lp\"\u001b[0m\u001b[1;33m)\u001b[0m\u001b[1;33m\u001b[0m\u001b[1;33m\u001b[0m\u001b[0m\n\u001b[0m\u001b[0;32m      7\u001b[0m \u001b[1;33m\u001b[0m\u001b[0m\n\u001b[0;32m      8\u001b[0m \u001b[0mmodel\u001b[0m\u001b[1;33m.\u001b[0m\u001b[0mParams\u001b[0m\u001b[1;33m.\u001b[0m\u001b[0mtuneResults\u001b[0m \u001b[1;33m=\u001b[0m \u001b[1;36m1\u001b[0m\u001b[1;33m\u001b[0m\u001b[1;33m\u001b[0m\u001b[0m\n",
      "\u001b[1;32msrc\\gurobipy\\gurobi.pxi\u001b[0m in \u001b[0;36mgurobipy.read\u001b[1;34m()\u001b[0m\n",
      "\u001b[1;32msrc\\gurobipy\\gurobi.pxi\u001b[0m in \u001b[0;36mgurobipy.gurobi.read\u001b[1;34m()\u001b[0m\n",
      "\u001b[1;31mGurobiError\u001b[0m: Unable to read model"
     ]
    }
   ],
   "source": [
    "# 模型调优\n",
    "\n",
    "# 1. 可以使用for循环手动调优\n",
    "# 2. 可以使用自带的调优器\n",
    "\n",
    "model = grb.read(\"tune_model.lp\")\n",
    "\n",
    "model.Params.tuneResults = 1\n",
    "model.tune()\n",
    "\n",
    "if model.tuneResultsCount > 0:\n",
    "    model.getTuneResult(0)\n",
    "    model.write('tune.prm')\n",
    "    model.optimize()"
   ]
  },
  {
   "cell_type": "markdown",
   "id": "8e1e6ac7",
   "metadata": {},
   "source": [
    "## 属性类型"
   ]
  },
  {
   "cell_type": "code",
   "execution_count": 77,
   "id": "a35c1989",
   "metadata": {
    "collapsed": true
   },
   "outputs": [
    {
     "data": {
      "text/plain": [
       "[]"
      ]
     },
     "execution_count": 77,
     "metadata": {},
     "output_type": "execute_result"
    },
    {
     "ename": "NameError",
     "evalue": "name 'var' is not defined",
     "output_type": "error",
     "traceback": [
      "\u001b[1;31m---------------------------------------------------------------------------\u001b[0m",
      "\u001b[1;31mNameError\u001b[0m                                 Traceback (most recent call last)",
      "\u001b[1;32m<ipython-input-77-0bd378ec2f13>\u001b[0m in \u001b[0;36m<module>\u001b[1;34m()\u001b[0m\n\u001b[0;32m      4\u001b[0m \u001b[1;33m\u001b[0m\u001b[0m\n\u001b[0;32m      5\u001b[0m \u001b[1;31m# 修改属性的例子\u001b[0m\u001b[1;33m\u001b[0m\u001b[1;33m\u001b[0m\u001b[1;33m\u001b[0m\u001b[0m\n\u001b[1;32m----> 6\u001b[1;33m \u001b[0mvar\u001b[0m\u001b[1;33m.\u001b[0m\u001b[0mVtype\u001b[0m \u001b[1;33m=\u001b[0m \u001b[1;34m'C'\u001b[0m\u001b[1;33m\u001b[0m\u001b[1;33m\u001b[0m\u001b[0m\n\u001b[0m",
      "\u001b[1;31mNameError\u001b[0m: name 'var' is not defined"
     ]
    }
   ],
   "source": [
    "from gurobipy import GRB\n",
    "# 查看属性\n",
    "model.Vtype\n",
    "\n",
    "# 修改属性的例子\n",
    "var.Vtype = 'C'"
   ]
  },
  {
   "cell_type": "markdown",
   "id": "85149142",
   "metadata": {},
   "source": [
    "# 线性化技巧"
   ]
  },
  {
   "cell_type": "markdown",
   "id": "ad43bb9a",
   "metadata": {},
   "source": [
    "## 最大值max"
   ]
  },
  {
   "cell_type": "code",
   "execution_count": 81,
   "id": "ce587c10",
   "metadata": {},
   "outputs": [
    {
     "data": {
      "text/plain": [
       "<gurobi.Constr *Awaiting Model Update*>"
      ]
     },
     "execution_count": 81,
     "metadata": {},
     "output_type": "execute_result"
    },
    {
     "data": {
      "text/plain": [
       "<gurobi.Constr *Awaiting Model Update*>"
      ]
     },
     "execution_count": 81,
     "metadata": {},
     "output_type": "execute_result"
    },
    {
     "data": {
      "text/plain": [
       "<gurobi.Constr *Awaiting Model Update*>"
      ]
     },
     "execution_count": 81,
     "metadata": {},
     "output_type": "execute_result"
    },
    {
     "data": {
      "text/plain": [
       "<gurobi.Constr *Awaiting Model Update*>"
      ]
     },
     "execution_count": 81,
     "metadata": {},
     "output_type": "execute_result"
    },
    {
     "data": {
      "text/plain": [
       "<gurobi.Constr *Awaiting Model Update*>"
      ]
     },
     "execution_count": 81,
     "metadata": {},
     "output_type": "execute_result"
    },
    {
     "data": {
      "text/plain": [
       "<gurobi.Constr *Awaiting Model Update*>"
      ]
     },
     "execution_count": 81,
     "metadata": {},
     "output_type": "execute_result"
    },
    {
     "data": {
      "text/plain": [
       "<gurobi.Constr *Awaiting Model Update*>"
      ]
     },
     "execution_count": 81,
     "metadata": {},
     "output_type": "execute_result"
    },
    {
     "data": {
      "text/plain": [
       "<gurobi.Constr *Awaiting Model Update*>"
      ]
     },
     "execution_count": 81,
     "metadata": {},
     "output_type": "execute_result"
    },
    {
     "data": {
      "text/plain": [
       "<gurobi.Constr *Awaiting Model Update*>"
      ]
     },
     "execution_count": 81,
     "metadata": {},
     "output_type": "execute_result"
    },
    {
     "name": "stdout",
     "output_type": "stream",
     "text": [
      "Gurobi Optimizer version 9.1.2 build v9.1.2rc0 (win64)\n",
      "Thread count: 6 physical cores, 12 logical processors, using up to 12 threads\n",
      "Optimize a model with 9 rows, 6 columns and 18 nonzeros\n",
      "Model fingerprint: 0x029e75e9\n",
      "Variable types: 3 continuous, 3 integer (3 binary)\n",
      "Coefficient statistics:\n",
      "  Matrix range     [1e+00, 1e+04]\n",
      "  Objective range  [1e+00, 1e+00]\n",
      "  Bounds range     [1e+00, 1e+00]\n",
      "  RHS range        [1e+00, 1e+04]\n",
      "Presolve removed 9 rows and 6 columns\n",
      "Presolve time: 0.00s\n",
      "Presolve: All rows and columns removed\n",
      "\n",
      "Explored 0 nodes (0 simplex iterations) in 0.00 seconds\n",
      "Thread count was 1 (of 12 available processors)\n",
      "\n",
      "Solution count 1: 5 \n",
      "\n",
      "Optimal solution found (tolerance 1.00e-04)\n",
      "Best objective 5.000000000000e+00, best bound 5.000000000000e+00, gap 0.0000%\n",
      "z= 5.0\n"
     ]
    }
   ],
   "source": [
    "# 方法1: 转换成大M法\n",
    "m = grb.Model()\n",
    "x = m.addVar(name='x')\n",
    "y = m.addVar(name='y')\n",
    "z = m.addVar(name='z')\n",
    "u1 = m.addVar(vtype='B', name='u1')\n",
    "u2 = m.addVar(vtype='B', name='u2')\n",
    "u3 = m.addVar(vtype='B', name='u3')\n",
    "M = 10000\n",
    "\n",
    "# 添加约束\n",
    "m.addConstr(x <= z - M * (1 - u1), name='c1')\n",
    "m.addConstr(y <= z - M * (1 - u2), name='c2')\n",
    "m.addConstr(3 <= z - M * (1 - u3), name='c3')\n",
    "m.addConstr(x == 4, name='c4')\n",
    "m.addConstr(y == 5, name='c5')\n",
    "m.addConstr(u1 + u2 + u3 >= 1, name='c6')\n",
    "m.addConstr(x <= z, name='c7')\n",
    "m.addConstr(y <= z, name='c8')\n",
    "m.addConstr(3 <= z, name='c8')\n",
    "\n",
    "# 定义目标函数并求解\n",
    "m.setObjective(z)\n",
    "m.optimize()\n",
    "print(\"z=\", z.X)"
   ]
  },
  {
   "cell_type": "code",
   "execution_count": 82,
   "id": "eabb0a01",
   "metadata": {},
   "outputs": [
    {
     "data": {
      "text/plain": [
       "<gurobi.Constr *Awaiting Model Update*>"
      ]
     },
     "execution_count": 82,
     "metadata": {},
     "output_type": "execute_result"
    },
    {
     "data": {
      "text/plain": [
       "<gurobi.Constr *Awaiting Model Update*>"
      ]
     },
     "execution_count": 82,
     "metadata": {},
     "output_type": "execute_result"
    },
    {
     "data": {
      "text/plain": [
       "<gurobi.GenConstr *Awaiting Model Update*>"
      ]
     },
     "execution_count": 82,
     "metadata": {},
     "output_type": "execute_result"
    },
    {
     "name": "stdout",
     "output_type": "stream",
     "text": [
      "Gurobi Optimizer version 9.1.2 build v9.1.2rc0 (win64)\n",
      "Thread count: 6 physical cores, 12 logical processors, using up to 12 threads\n",
      "Optimize a model with 2 rows, 3 columns and 2 nonzeros\n",
      "Model fingerprint: 0xd859d712\n",
      "Model has 1 general constraint\n",
      "Variable types: 3 continuous, 0 integer (0 binary)\n",
      "Coefficient statistics:\n",
      "  Matrix range     [1e+00, 1e+00]\n",
      "  Objective range  [1e+00, 1e+00]\n",
      "  Bounds range     [0e+00, 0e+00]\n",
      "  RHS range        [4e+00, 5e+00]\n",
      "Presolve removed 2 rows and 3 columns\n",
      "Presolve time: 0.00s\n",
      "Presolve: All rows and columns removed\n",
      "\n",
      "Explored 0 nodes (0 simplex iterations) in 0.01 seconds\n",
      "Thread count was 1 (of 12 available processors)\n",
      "\n",
      "Solution count 1: 5 \n",
      "\n",
      "Optimal solution found (tolerance 1.00e-04)\n",
      "Best objective 5.000000000000e+00, best bound 5.000000000000e+00, gap 0.0000%\n",
      "5.0\n"
     ]
    }
   ],
   "source": [
    "# 使用gurobi内置接口求解max\n",
    "m = grb.Model()\n",
    "x = m.addVar(name='x')\n",
    "y = m.addVar(name='y')\n",
    "z = m.addVar(name='z')\n",
    "m.addConstr(x == 4, name='c4')\n",
    "m.addConstr(y == 5, name='c5')\n",
    "# 重点\n",
    "m.addConstr(z == grb.max_(x, y, 3))\n",
    "m.setObjective(z)\n",
    "m.optimize()\n",
    "print(z.X)"
   ]
  },
  {
   "cell_type": "code",
   "execution_count": 83,
   "id": "9f3ea423",
   "metadata": {},
   "outputs": [
    {
     "data": {
      "text/plain": [
       "<gurobi.Constr *Awaiting Model Update*>"
      ]
     },
     "execution_count": 83,
     "metadata": {},
     "output_type": "execute_result"
    },
    {
     "data": {
      "text/plain": [
       "<gurobi.Constr *Awaiting Model Update*>"
      ]
     },
     "execution_count": 83,
     "metadata": {},
     "output_type": "execute_result"
    },
    {
     "data": {
      "text/plain": [
       "<gurobi.GenConstr *Awaiting Model Update*>"
      ]
     },
     "execution_count": 83,
     "metadata": {},
     "output_type": "execute_result"
    },
    {
     "name": "stdout",
     "output_type": "stream",
     "text": [
      "Gurobi Optimizer version 9.1.2 build v9.1.2rc0 (win64)\n",
      "Thread count: 6 physical cores, 12 logical processors, using up to 12 threads\n",
      "Optimize a model with 2 rows, 3 columns and 2 nonzeros\n",
      "Model fingerprint: 0xd867ee93\n",
      "Model has 1 general constraint\n",
      "Variable types: 3 continuous, 0 integer (0 binary)\n",
      "Coefficient statistics:\n",
      "  Matrix range     [1e+00, 1e+00]\n",
      "  Objective range  [1e+00, 1e+00]\n",
      "  Bounds range     [0e+00, 0e+00]\n",
      "  RHS range        [4e+00, 5e+00]\n",
      "Presolve removed 2 rows and 3 columns\n",
      "Presolve time: 0.00s\n",
      "Presolve: All rows and columns removed\n",
      "\n",
      "Explored 0 nodes (0 simplex iterations) in 0.00 seconds\n",
      "Thread count was 1 (of 12 available processors)\n",
      "\n",
      "Solution count 1: 3 \n",
      "\n",
      "Optimal solution found (tolerance 1.00e-04)\n",
      "Best objective 3.000000000000e+00, best bound 3.000000000000e+00, gap 0.0000%\n",
      "3.0\n"
     ]
    }
   ],
   "source": [
    "# 同理使用gurobi内置接口求解min\n",
    "m = grb.Model()\n",
    "x = m.addVar(name='x')\n",
    "y = m.addVar(name='y')\n",
    "z = m.addVar(name='z')\n",
    "m.addConstr(x == 4, name='c4')\n",
    "m.addConstr(y == 5, name='c5')\n",
    "# 重点\n",
    "m.addConstr(z == grb.min_(x, y, 3))\n",
    "m.setObjective(z)\n",
    "m.optimize()\n",
    "print(z.X)"
   ]
  },
  {
   "cell_type": "markdown",
   "id": "8b66d2b2",
   "metadata": {},
   "source": [
    "## 绝对值abs"
   ]
  },
  {
   "cell_type": "code",
   "execution_count": 88,
   "id": "7a520794",
   "metadata": {},
   "outputs": [
    {
     "data": {
      "text/plain": [
       "<gurobi.GenConstr *Awaiting Model Update*>"
      ]
     },
     "execution_count": 88,
     "metadata": {},
     "output_type": "execute_result"
    },
    {
     "name": "stdout",
     "output_type": "stream",
     "text": [
      "Gurobi Optimizer version 9.1.2 build v9.1.2rc0 (win64)\n",
      "Thread count: 6 physical cores, 12 logical processors, using up to 12 threads\n",
      "Optimize a model with 0 rows, 2 columns and 0 nonzeros\n",
      "Model fingerprint: 0xb6c2f9ef\n",
      "Model has 1 general constraint\n",
      "Variable types: 2 continuous, 0 integer (0 binary)\n",
      "Coefficient statistics:\n",
      "  Matrix range     [0e+00, 0e+00]\n",
      "  Objective range  [2e+00, 2e+00]\n",
      "  Bounds range     [1e+01, 1e+01]\n",
      "  RHS range        [0e+00, 0e+00]\n",
      "Found heuristic solution: objective 4.000000e+09\n",
      "Presolve removed 0 rows and 2 columns\n",
      "Presolve time: 0.00s\n",
      "Presolve: All rows and columns removed\n",
      "\n",
      "Explored 0 nodes (0 simplex iterations) in 0.01 seconds\n",
      "Thread count was 1 (of 12 available processors)\n",
      "\n",
      "Solution count 2: 0 4e+09 \n",
      "\n",
      "Optimal solution found (tolerance 1.00e-04)\n",
      "Best objective 0.000000000000e+00, best bound 0.000000000000e+00, gap 0.0000%\n",
      "y= 0.0\n",
      "x= 0.0\n"
     ]
    }
   ],
   "source": [
    "m = grb.Model()\n",
    "x = m.addVar(lb= -10, name='x')\n",
    "y = m.addVar(name='y')\n",
    "m.addConstr(y == grb.abs_(x), name='C_abs')\n",
    "# m.addConstr(x >= -5, name='C_2')\n",
    "# m.addConstr(x <= 3, name='C_3')\n",
    "c = 2\n",
    "m.setObjective(c * y)\n",
    "m.optimize()\n",
    "print(\"y=\", y.X)\n",
    "print(\"x=\", x.X)"
   ]
  },
  {
   "cell_type": "markdown",
   "id": "ddee7832",
   "metadata": {},
   "source": [
    "## 逻辑关系( or and )"
   ]
  },
  {
   "cell_type": "code",
   "execution_count": 89,
   "id": "65c8e793",
   "metadata": {},
   "outputs": [],
   "source": [
    "# 可以通过大M法实现"
   ]
  },
  {
   "cell_type": "markdown",
   "id": "228ec26c",
   "metadata": {},
   "source": [
    "## 指示函数indicator"
   ]
  },
  {
   "cell_type": "code",
   "execution_count": 100,
   "id": "00e04972",
   "metadata": {
    "collapsed": true
   },
   "outputs": [
    {
     "ename": "TypeError",
     "evalue": "'>' not supported between instances of 'Var' and 'int'",
     "output_type": "error",
     "traceback": [
      "\u001b[1;31m---------------------------------------------------------------------------\u001b[0m",
      "\u001b[1;31mTypeError\u001b[0m                                 Traceback (most recent call last)",
      "\u001b[1;32m<ipython-input-100-dea53f669b04>\u001b[0m in \u001b[0;36m<module>\u001b[1;34m()\u001b[0m\n\u001b[0;32m      4\u001b[0m \u001b[0my\u001b[0m \u001b[1;33m=\u001b[0m \u001b[0mmodel\u001b[0m\u001b[1;33m.\u001b[0m\u001b[0maddVar\u001b[0m\u001b[1;33m(\u001b[0m\u001b[0mname\u001b[0m\u001b[1;33m=\u001b[0m\u001b[1;34m'y'\u001b[0m\u001b[1;33m)\u001b[0m\u001b[1;33m\u001b[0m\u001b[1;33m\u001b[0m\u001b[0m\n\u001b[0;32m      5\u001b[0m \u001b[1;31m# model.addConstr(x == 4)\u001b[0m\u001b[1;33m\u001b[0m\u001b[1;33m\u001b[0m\u001b[1;33m\u001b[0m\u001b[0m\n\u001b[1;32m----> 6\u001b[1;33m \u001b[0mmodel\u001b[0m\u001b[1;33m.\u001b[0m\u001b[0maddConstr\u001b[0m\u001b[1;33m(\u001b[0m\u001b[1;33m(\u001b[0m\u001b[0my\u001b[0m \u001b[1;33m==\u001b[0m \u001b[1;36m1\u001b[0m\u001b[1;33m)\u001b[0m \u001b[1;33m>>\u001b[0m \u001b[1;33m(\u001b[0m\u001b[0mx\u001b[0m \u001b[1;33m>\u001b[0m \u001b[1;36m0\u001b[0m\u001b[1;33m)\u001b[0m\u001b[1;33m,\u001b[0m \u001b[0mname\u001b[0m\u001b[1;33m=\u001b[0m\u001b[1;34m\"c1\"\u001b[0m\u001b[1;33m)\u001b[0m\u001b[1;33m\u001b[0m\u001b[1;33m\u001b[0m\u001b[0m\n\u001b[0m\u001b[0;32m      7\u001b[0m \u001b[0mmodel\u001b[0m\u001b[1;33m.\u001b[0m\u001b[0moptimize\u001b[0m\u001b[1;33m(\u001b[0m\u001b[1;33m)\u001b[0m\u001b[1;33m\u001b[0m\u001b[1;33m\u001b[0m\u001b[0m\n\u001b[0;32m      8\u001b[0m \u001b[0mprint\u001b[0m\u001b[1;33m(\u001b[0m\u001b[0my\u001b[0m\u001b[1;33m.\u001b[0m\u001b[0mX\u001b[0m\u001b[1;33m)\u001b[0m\u001b[1;33m\u001b[0m\u001b[1;33m\u001b[0m\u001b[0m\n",
      "\u001b[1;31mTypeError\u001b[0m: '>' not supported between instances of 'Var' and 'int'"
     ]
    }
   ],
   "source": [
    "# 不能实现, 我也不知道为什么\n",
    "model = grb.Model()\n",
    "x = model.addVar(name='x')\n",
    "y = model.addVar(name='y')\n",
    "# model.addConstr(x == 4)\n",
    "model.addConstr((y == 1) >> (x > 0), name=\"c1\")\n",
    "model.optimize()\n",
    "print(y.X)"
   ]
  },
  {
   "cell_type": "markdown",
   "id": "52fc1c6c",
   "metadata": {},
   "source": [
    "# 多目标优化"
   ]
  },
  {
   "cell_type": "code",
   "execution_count": 101,
   "id": "c1cedd85",
   "metadata": {},
   "outputs": [],
   "source": [
    "# 合成型\n",
    "model = grb.Model()\n",
    "\n",
    "x = model.addVar(name='x')\n",
    "y = model.addVar(name='y')\n",
    "\n",
    "# 添加第1个目标\n",
    "model.setObjectiveN(x + 2 * y, index=0, weight=3, name='obj1')\n",
    "# 添加第2个目标\n",
    "model.setObjectiveN(x - 3 * y, index=1, weight=0.5, name='obj2')"
   ]
  },
  {
   "cell_type": "code",
   "execution_count": null,
   "id": "4b80fc19",
   "metadata": {},
   "outputs": [],
   "source": [
    "# 分层型\n",
    "model = grb.Model()\n",
    "\n",
    "x = model.addVar(name='x')\n",
    "y = model.addVar(name='y')\n",
    "\n",
    "# 添加第一个目标\n",
    "# 如果只设置priority, 那么在优化第一个之后, 才优化第二个, 且不改变目标值\n",
    "model.setObjectiveN(x + 2*y, index=0, priority=20, name='obj1')\n",
    "model.setObjectiveN(x - 3*y, index=1, priority=1, name='obj2')\n"
   ]
  },
  {
   "cell_type": "code",
   "execution_count": 109,
   "id": "6bdc5007",
   "metadata": {},
   "outputs": [
    {
     "name": "stdout",
     "output_type": "stream",
     "text": [
      "Gurobi Optimizer version 9.1.2 build v9.1.2rc0 (win64)\n",
      "Thread count: 6 physical cores, 12 logical processors, using up to 12 threads\n",
      "Optimize a model with 0 rows, 2 columns and 0 nonzeros\n",
      "Model fingerprint: 0x3df951d0\n",
      "Variable types: 2 continuous, 0 integer (0 binary)\n",
      "Coefficient statistics:\n",
      "  Matrix range     [0e+00, 0e+00]\n",
      "  Objective range  [1e+00, 3e+00]\n",
      "  Bounds range     [0e+00, 0e+00]\n",
      "  RHS range        [0e+00, 0e+00]\n",
      "\n",
      "---------------------------------------------------------------------------\n",
      "Multi-objectives: starting optimization with 2 objectives ... \n",
      "---------------------------------------------------------------------------\n",
      "\n",
      "Multi-objectives: applying initial presolve ...\n",
      "---------------------------------------------------------------------------\n",
      "\n",
      "Presolved: 0 rows and 2 columns\n",
      "---------------------------------------------------------------------------\n",
      "\n",
      "Multi-objectives: optimize objective 1 (obj1) ...\n",
      "---------------------------------------------------------------------------\n",
      "\n",
      "Presolve removed 0 rows and 2 columns\n",
      "Presolve time: 0.01s\n",
      "Presolve: All rows and columns removed\n",
      "Iteration    Objective       Primal Inf.    Dual Inf.      Time\n",
      "       0    0.0000000e+00   0.000000e+00   0.000000e+00      0s\n",
      "\n",
      "Solved in 0 iterations and 0.01 seconds\n",
      "Optimal objective  0.000000000e+00\n",
      "---------------------------------------------------------------------------\n",
      "\n",
      "Multi-objectives: optimize objective 2 (obj2) ...\n",
      "---------------------------------------------------------------------------\n",
      "\n",
      "Iteration    Objective       Primal Inf.    Dual Inf.      Time\n",
      "       0    0.0000000e+00   0.000000e+00   0.000000e+00      0s\n",
      "\n",
      "Solved in 0 iterations and 0.01 seconds\n",
      "Optimal objective  0.000000000e+00\n",
      "\n",
      "---------------------------------------------------------------------------\n",
      "Multi-objectives: solved in 0.01 seconds, solution count 1\n",
      "\n"
     ]
    }
   ],
   "source": [
    "# 混合型\n",
    "model = grb.Model()\n",
    "x = model.addVar(name='x')\n",
    "y = model.addVar(name='y')\n",
    "\n",
    "model.setObjectiveN(x + 2*y, index=0, priority=20, weight=3, name='obj1')\n",
    "model.setObjectiveN(x - 3*y, index=1, priority=1, weight=0.5, name='obj2')\n",
    "model.optimize()"
   ]
  },
  {
   "cell_type": "code",
   "execution_count": 111,
   "id": "8951c076",
   "metadata": {},
   "outputs": [
    {
     "name": "stdout",
     "output_type": "stream",
     "text": [
      "第 0 个目标的优化值是 0.0\n",
      "第 1 个目标的优化值是 0.0\n"
     ]
    }
   ],
   "source": [
    "# test\n",
    "for i in range(model.NumObj):\n",
    "    model.setParam(grb.GRB.Param.ObjNumber, i)\n",
    "    print(\"第\", i, \"个目标的优化值是\", model.ObjNVal)"
   ]
  },
  {
   "cell_type": "markdown",
   "id": "2425d9da",
   "metadata": {},
   "source": [
    "## 多目标优化案例"
   ]
  },
  {
   "cell_type": "code",
   "execution_count": 121,
   "id": "8649bede",
   "metadata": {},
   "outputs": [
    {
     "data": {
      "text/plain": [
       "{0: <gurobi.Constr *Awaiting Model Update*>,\n",
       " 1: <gurobi.Constr *Awaiting Model Update*>,\n",
       " 2: <gurobi.Constr *Awaiting Model Update*>,\n",
       " 3: <gurobi.Constr *Awaiting Model Update*>,\n",
       " 4: <gurobi.Constr *Awaiting Model Update*>,\n",
       " 5: <gurobi.Constr *Awaiting Model Update*>,\n",
       " 6: <gurobi.Constr *Awaiting Model Update*>,\n",
       " 7: <gurobi.Constr *Awaiting Model Update*>,\n",
       " 8: <gurobi.Constr *Awaiting Model Update*>,\n",
       " 9: <gurobi.Constr *Awaiting Model Update*>}"
      ]
     },
     "execution_count": 121,
     "metadata": {},
     "output_type": "execute_result"
    },
    {
     "data": {
      "text/plain": [
       "{0: <gurobi.Constr *Awaiting Model Update*>,\n",
       " 1: <gurobi.Constr *Awaiting Model Update*>,\n",
       " 2: <gurobi.Constr *Awaiting Model Update*>,\n",
       " 3: <gurobi.Constr *Awaiting Model Update*>,\n",
       " 4: <gurobi.Constr *Awaiting Model Update*>,\n",
       " 5: <gurobi.Constr *Awaiting Model Update*>,\n",
       " 6: <gurobi.Constr *Awaiting Model Update*>,\n",
       " 7: <gurobi.Constr *Awaiting Model Update*>,\n",
       " 8: <gurobi.Constr *Awaiting Model Update*>,\n",
       " 9: <gurobi.Constr *Awaiting Model Update*>}"
      ]
     },
     "execution_count": 121,
     "metadata": {},
     "output_type": "execute_result"
    },
    {
     "name": "stdout",
     "output_type": "stream",
     "text": [
      "Gurobi Optimizer version 9.1.2 build v9.1.2rc0 (win64)\n",
      "Thread count: 6 physical cores, 12 logical processors, using up to 12 threads\n",
      "Optimize a model with 20 rows, 100 columns and 200 nonzeros\n",
      "Model fingerprint: 0x65ad441f\n",
      "Variable types: 0 continuous, 100 integer (100 binary)\n",
      "Coefficient statistics:\n",
      "  Matrix range     [1e+00, 1e+00]\n",
      "  Objective range  [1e+00, 1e+02]\n",
      "  Bounds range     [1e+00, 1e+00]\n",
      "  RHS range        [1e+00, 1e+00]\n",
      "\n",
      "---------------------------------------------------------------------------\n",
      "Multi-objectives: starting optimization with 2 objectives ... \n",
      "---------------------------------------------------------------------------\n",
      "\n",
      "Multi-objectives: applying initial presolve ...\n",
      "---------------------------------------------------------------------------\n",
      "\n",
      "Presolve time: 0.00s\n",
      "Presolved: 20 rows and 100 columns\n",
      "---------------------------------------------------------------------------\n",
      "\n",
      "Multi-objectives: optimize objective 1 (obj2) ...\n",
      "---------------------------------------------------------------------------\n",
      "\n",
      "Found heuristic solution: objective -424.0000000\n",
      "Presolve time: 0.00s\n",
      "Presolved: 20 rows, 100 columns, 200 nonzeros\n",
      "Variable types: 0 continuous, 100 integer (100 binary)\n",
      "\n",
      "Root relaxation: objective -8.630000e+02, 18 iterations, 0.00 seconds\n",
      "\n",
      "    Nodes    |    Current Node    |     Objective Bounds      |     Work\n",
      " Expl Unexpl |  Obj  Depth IntInf | Incumbent    BestBd   Gap | It/Node Time\n",
      "\n",
      "*    0     0               0    -863.0000000 -863.00000  0.00%     -    0s\n",
      "\n",
      "Explored 0 nodes (18 simplex iterations) in 0.03 seconds\n",
      "Thread count was 12 (of 12 available processors)\n",
      "\n",
      "Solution count 2: -863 -424 \n",
      "No other solutions better than -863\n",
      "\n",
      "Optimal solution found (tolerance 1.00e-04)\n",
      "Best objective -8.630000000000e+02, best bound -8.630000000000e+02, gap 0.0000%\n",
      "---------------------------------------------------------------------------\n",
      "\n",
      "Multi-objectives: optimize objective 2 (obj1) ...\n",
      "---------------------------------------------------------------------------\n",
      "\n",
      "\n",
      "Loaded user MIP start with objective 687\n",
      "\n",
      "Presolve time: 0.00s\n",
      "Presolved: 21 rows, 100 columns, 288 nonzeros\n",
      "Variable types: 0 continuous, 100 integer (100 binary)\n",
      "\n",
      "Root relaxation: objective 3.596170e+02, 30 iterations, 0.00 seconds\n",
      "\n",
      "    Nodes    |    Current Node    |     Objective Bounds      |     Work\n",
      " Expl Unexpl |  Obj  Depth IntInf | Incumbent    BestBd   Gap | It/Node Time\n",
      "\n",
      "     0     0  359.61702    0   12  687.00000  359.61702  47.7%     -    0s\n",
      "H    0     0                     396.0000000  359.61702  9.19%     -    0s\n",
      "H    0     0                     373.0000000  359.61702  3.59%     -    0s\n",
      "\n",
      "Cutting planes:\n",
      "  Gomory: 1\n",
      "\n",
      "Explored 1 nodes (30 simplex iterations) in 0.06 seconds\n",
      "Thread count was 12 (of 12 available processors)\n",
      "\n",
      "Solution count 3: 373 396 687 \n",
      "\n",
      "Optimal solution found (tolerance 1.00e-04)\n",
      "Best objective 3.730000000000e+02, best bound 3.730000000000e+02, gap 0.0000%\n",
      "\n",
      "---------------------------------------------------------------------------\n",
      "Multi-objectives: solved in 0.06 seconds, solution count 4\n",
      "\n",
      "工人 1 分配工作 8\n",
      "工人 2 分配工作 10\n",
      "工人 3 分配工作 9\n",
      "工人 4 分配工作 3\n",
      "工人 5 分配工作 2\n",
      "工人 6 分配工作 4\n",
      "工人 7 分配工作 5\n",
      "工人 8 分配工作 7\n",
      "工人 9 分配工作 1\n",
      "工人 10 分配工作 6\n",
      "Obj1 =  373.0\n",
      "Obj2 =  -768.0\n"
     ]
    }
   ],
   "source": [
    "import gurobipy as grb\n",
    "import numpy as np\n",
    "\n",
    "# 设定工人数和工作数量\n",
    "N = 10\n",
    "np.random.seed(1234)  # 固定随机数种子，这样每次产生的随机数一样\n",
    "\n",
    "# 用随机数初始化时间矩阵Tij和成本矩阵Cij\n",
    "# i+1, j+1 是为了序号从1开始编号\n",
    "Tij = {(i + 1, j + 1): np.random.randint(0, 100) for i in range(N) for j in range(N)}\n",
    "Cij = {(i + 1, j + 1): np.random.randint(0, 100) for i in range(N) for j in range(N)}\n",
    "\n",
    "# 定义 model\n",
    "m = grb.Model('MultiObj')\n",
    "\n",
    "# 添加变量，x是tupledict类型，可以方便使用select,sum,prod函数\n",
    "# 同时可以加快创建变量的效率\n",
    "# x 是0-1类型变量，xij=1 表示第i个工人被分配到第j个工作中\n",
    "x = m.addVars(Tij.keys(), vtype=grb.GRB.BINARY, name='x')\n",
    "\n",
    "# 添加约束\n",
    "# tupledict的sum函数使用\n",
    "# 第一个约束表示一个工作只能分配给一个工人\n",
    "# 第二个约束表示一个工人只做一个工作\n",
    "m.addConstrs((x.sum('*', j + 1) == 1 for j in range(N)), 'C1')\n",
    "m.addConstrs((x.sum(i + 1, '*') == 1 for i in range(N)), 'C2')\n",
    "\n",
    "# 多目标方式1：Blend合成型\n",
    "# 设置多目标 权重\n",
    "# x.prod(Tij)表示工人分配矩阵Xij和时间矩阵Tij通过相同的索引ij进行相乘\n",
    "# 这也是Gurobi扩展tupledict的原因\n",
    "# 第二个目标函数取符号是为了保证两个目标的优化方向一致\n",
    "# m.setObjectiveN(x.prod(Tij),  index=0, weight=0.1, name='obj1')\n",
    "# m.setObjectiveN(-x.prod(Cij), index=1, weight=0.5, name='obj2')\n",
    "\n",
    "# 多目标方式2：Hierarchical分层型\n",
    "m.setObjectiveN(x.prod(Tij), index=0, priority=1, abstol=0, reltol=0, name='obj1')\n",
    "m.setObjectiveN(-x.prod(Cij), index=1, priority=2, abstol=100, reltol=0, name='obj2')\n",
    "\n",
    "# 启动求解\n",
    "m.optimize()\n",
    "\n",
    "# 获得求解结果\n",
    "# x[i].x 表示获取某个变量的值\n",
    "for i in Tij.keys():\n",
    "    if x[i].x > 0.9:\n",
    "        print(\"工人 %d 分配工作 %d\" % (i[0], i[1]))\n",
    "\n",
    "# 获取目标函数值\n",
    "for i in range(2):\n",
    "    m.setParam(grb.GRB.Param.ObjNumber, i)\n",
    "    print('Obj%d = ' % (i + 1), m.ObjNVal)\n",
    "\n",
    "# 输出结果\n",
    "# Obj1 =  373.0\n",
    "# Obj2 =  -768.0\n",
    "\n",
    "# 工人 1 分配工作 8\n",
    "# 工人 2 分配工作 10\n",
    "# 工人 3 分配工作 9\n",
    "# 工人 4 分配工作 3\n",
    "# 工人 5 分配工作 2\n",
    "# 工人 6 分配工作 4\n",
    "# 工人 7 分配工作 5\n",
    "# 工人 8 分配工作 7\n",
    "# 工人 9 分配工作 1\n",
    "# 工人 10 分配工作 6\n"
   ]
  },
  {
   "cell_type": "markdown",
   "id": "525f9f15",
   "metadata": {},
   "source": [
    "# callback函数"
   ]
  },
  {
   "cell_type": "code",
   "execution_count": null,
   "id": "31fcdeec",
   "metadata": {},
   "outputs": [],
   "source": []
  }
 ],
 "metadata": {
  "kernelspec": {
   "display_name": "Python 3",
   "language": "python",
   "name": "python3"
  },
  "language_info": {
   "codemirror_mode": {
    "name": "ipython",
    "version": 3
   },
   "file_extension": ".py",
   "mimetype": "text/x-python",
   "name": "python",
   "nbconvert_exporter": "python",
   "pygments_lexer": "ipython3",
   "version": "3.7.6"
  },
  "toc": {
   "base_numbering": 1,
   "nav_menu": {},
   "number_sections": true,
   "sideBar": true,
   "skip_h1_title": false,
   "title_cell": "Table of Contents",
   "title_sidebar": "Contents",
   "toc_cell": false,
   "toc_position": {},
   "toc_section_display": true,
   "toc_window_display": true
  }
 },
 "nbformat": 4,
 "nbformat_minor": 5
}
