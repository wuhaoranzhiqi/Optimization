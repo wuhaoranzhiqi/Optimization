{
 "cells": [
  {
   "cell_type": "code",
   "execution_count": 2,
   "id": "081331e2",
   "metadata": {},
   "outputs": [],
   "source": [
    "from IPython.core.interactiveshell import InteractiveShell\n",
    "InteractiveShell.ast_node_interactivity = \"all\"\n",
    "import pandas as pd\n",
    "import numpy as np"
   ]
  },
  {
   "cell_type": "markdown",
   "id": "23afddb6",
   "metadata": {},
   "source": [
    "# 单纯形法"
   ]
  },
  {
   "cell_type": "code",
   "execution_count": 15,
   "id": "3fad2398",
   "metadata": {},
   "outputs": [],
   "source": [
    "# 定义线性规划求解函数\n",
    "def lp_solve(matrix: pd.DataFrame):    # 表示输入的数据格式为DataFrame\n",
    "    \"\"\"\n",
    "    输入线性规划的矩阵，根据单纯形法求解线性规划模型\n",
    "     max cx\n",
    "    s.t. ax<=b\n",
    "    矩阵形式是：\n",
    "             b    x1    x2   x3   x4   x5\n",
    "    obj    0.0  70.0  30.0  0.0  0.0  0.0\n",
    "    x3   540.0   3.0   9.0  1.0  0.0  0.0\n",
    "    x4   450.0   5.0   5.0  0.0  1.0  0.0\n",
    "    x5   720.0   9.0   3.0  0.0  0.0  1.0\n",
    "    第1行是目标函数的系数\n",
    "    第2-4行是约束方程的系数\n",
    "    第1列是约束方程的常数项\n",
    "    obj-b 交叉，即第1行第1列的元素是目标函数的负值\n",
    "    x3,x4,x5 是松弛变量，也是初始可行解\n",
    "    :param matrix:\n",
    "    :return:\n",
    "    \"\"\"\n",
    "    \n",
    "    # 检验数是否大于0\n",
    "    c = matrix.iloc[0, 1:]\n",
    "    while c.max() > 0:\n",
    "        \n",
    "        # 1. 选择入基变量, 即目标函数系数最大的变量入基\n",
    "        c = matrix.iloc[0, 1:]\n",
    "        in_x = c.idxmax()\n",
    "        in_x_v = c[in_x] # 入基变量的系数\n",
    "        \n",
    "        # 2. 选择出基变量\n",
    "        # 选择正的最小比值对应的变量出基min (b列/入基变量)\n",
    "        b = matrix.iloc[1:, 0]\n",
    "        in_x_a = matrix.iloc[1:][in_x]  # 选择入基变量对应的列\n",
    "        out_x = (b / in_x_a).idxmin()  # 得出出基变量idx\n",
    "        \n",
    "        # 3. 旋转操作\n",
    "        matrix.loc[out_x, :] = matrix.loc[out_x, :] / matrix.loc[out_x, in_x]\n",
    "        for idx in matrix.index:\n",
    "            if idx != out_x:\n",
    "                matrix.loc[idx, :] = matrix.loc[idx, :] - matrix.loc[out_x, :] * matrix.loc[idx, in_x]\n",
    "        \n",
    "        # 4. 基索引替换(入基与出基变量名称替换)\n",
    "        index = matrix.index.tolist()\n",
    "        i = index.index(out_x) # 下标\n",
    "        index[i] = in_x\n",
    "        matrix.index = index\n",
    "        print(matrix)\n",
    "    # 打印结果\n",
    "    print(\"最终的最优单纯形法是:\")\n",
    "    print(matrix)\n",
    "    print(\"目标函数值是:\", - matrix.iloc[0, 0])\n",
    "    print(\"最优决策变量是:\")\n",
    "    x_count = (matrix.shape[1] - 1) - (matrix.shape[0] - 1)\n",
    "    X = matrix.iloc[0, 1:].index.tolist()[: x_count]\n",
    "    for xi in X:\n",
    "        print(xi, '=', matrix.loc[xi, 'b'])\n"
   ]
  },
  {
   "cell_type": "code",
   "execution_count": 16,
   "id": "d1e96a63",
   "metadata": {},
   "outputs": [],
   "source": [
    "# 主函数\n",
    "def main():\n",
    "    # 增广矩阵\n",
    "    matrix = pd.DataFrame(\n",
    "        np.array([\n",
    "            [0, 70, 30, 0, 0, 0],\n",
    "            [540, 3, 9, 1, 0, 0],\n",
    "            [450, 5, 5, 0, 1, 0],\n",
    "            [720, 9, 3, 0, 0, 1]]),\n",
    "        index = ['obj', 'x3', 'x4', 'x5'],\n",
    "        columns = ['b', 'x1', 'x2', 'x3', 'x4', 'x5']\n",
    "    )\n",
    "    lp_solve(matrix)"
   ]
  },
  {
   "cell_type": "code",
   "execution_count": 17,
   "id": "01a43bb5-9558-4f29-afda-3b9f5b234b32",
   "metadata": {},
   "outputs": [
    {
     "name": "stdout",
     "output_type": "stream",
     "text": [
      "          b   x1        x2   x3   x4        x5\n",
      "obj -5600.0  0.0  6.666667  0.0  0.0 -7.777778\n",
      "x3    300.0  0.0  8.000000  1.0  0.0 -0.333333\n",
      "x4     50.0  0.0  3.333333  0.0  1.0 -0.555556\n",
      "x1     80.0  1.0  0.333333  0.0  0.0  0.111111\n",
      "          b   x1   x2   x3   x4        x5\n",
      "obj -5700.0  0.0  0.0  0.0 -2.0 -6.666667\n",
      "x3    180.0  0.0  0.0  1.0 -2.4  1.000000\n",
      "x2     15.0  0.0  1.0  0.0  0.3 -0.166667\n",
      "x1     75.0  1.0  0.0  0.0 -0.1  0.166667\n",
      "最终的最优单纯形法是:\n",
      "          b   x1   x2   x3   x4        x5\n",
      "obj -5700.0  0.0  0.0  0.0 -2.0 -6.666667\n",
      "x3    180.0  0.0  0.0  1.0 -2.4  1.000000\n",
      "x2     15.0  0.0  1.0  0.0  0.3 -0.166667\n",
      "x1     75.0  1.0  0.0  0.0 -0.1  0.166667\n",
      "目标函数值是: 5700.0\n",
      "最优决策变量是:\n",
      "x1 = 75.0\n",
      "x2 = 15.0\n"
     ]
    }
   ],
   "source": [
    "main()"
   ]
  },
  {
   "cell_type": "markdown",
   "id": "64bb0aa0-cd0a-4d50-9297-a918fb006f62",
   "metadata": {},
   "source": [
    "# 内点法"
   ]
  },
  {
   "cell_type": "code",
   "execution_count": 19,
   "id": "2a299201-6040-4b84-9320-6a8cb5f391fe",
   "metadata": {},
   "outputs": [],
   "source": [
    "# 如何求解一阶导数和二阶导数"
   ]
  },
  {
   "cell_type": "code",
   "execution_count": 48,
   "id": "3bd7c82b-48b6-4609-9332-507f0839c8cc",
   "metadata": {},
   "outputs": [
    {
     "data": {
      "text/latex": [
       "$\\displaystyle - 30 t + \\frac{9}{- 3 x_{1} - 9 x_{2} + 540} + \\frac{5}{- 5 x_{1} - 5 x_{2} + 450} + \\frac{3}{- 9 x_{1} - 3 x_{2} + 720} - \\frac{1}{x_{2}}$"
      ],
      "text/plain": [
       "-30*t + 9/(-3*x1 - 9*x2 + 540) + 5/(-5*x1 - 5*x2 + 450) + 3/(-9*x1 - 3*x2 + 720) - 1/x2"
      ]
     },
     "execution_count": 48,
     "metadata": {},
     "output_type": "execute_result"
    },
    {
     "data": {
      "text/latex": [
       "$\\displaystyle \\frac{9}{\\left(3 x_{1} + x_{2} - 240\\right)^{2}} + \\frac{1}{\\left(x_{1} + 3 x_{2} - 180\\right)^{2}} + \\frac{1}{\\left(x_{1} + x_{2} - 90\\right)^{2}} + \\frac{1}{x_{1}^{2}}$"
      ],
      "text/plain": [
       "9/(3*x1 + x2 - 240)**2 + (x1 + 3*x2 - 180)**(-2) + (x1 + x2 - 90)**(-2) + x1**(-2)"
      ]
     },
     "execution_count": 48,
     "metadata": {},
     "output_type": "execute_result"
    },
    {
     "data": {
      "text/latex": [
       "$\\displaystyle \\frac{3}{\\left(3 x_{1} + x_{2} - 240\\right)^{2}} + \\frac{3}{\\left(x_{1} + 3 x_{2} - 180\\right)^{2}} + \\frac{1}{\\left(x_{1} + x_{2} - 90\\right)^{2}}$"
      ],
      "text/plain": [
       "3/(3*x1 + x2 - 240)**2 + 3/(x1 + 3*x2 - 180)**2 + (x1 + x2 - 90)**(-2)"
      ]
     },
     "execution_count": 48,
     "metadata": {},
     "output_type": "execute_result"
    },
    {
     "data": {
      "text/latex": [
       "$\\displaystyle \\frac{3}{\\left(3 x_{1} + x_{2} - 240\\right)^{2}} + \\frac{3}{\\left(x_{1} + 3 x_{2} - 180\\right)^{2}} + \\frac{1}{\\left(x_{1} + x_{2} - 90\\right)^{2}}$"
      ],
      "text/plain": [
       "3/(3*x1 + x2 - 240)**2 + 3/(x1 + 3*x2 - 180)**2 + (x1 + x2 - 90)**(-2)"
      ]
     },
     "execution_count": 48,
     "metadata": {},
     "output_type": "execute_result"
    },
    {
     "data": {
      "text/latex": [
       "$\\displaystyle \\frac{1}{\\left(3 x_{1} + x_{2} - 240\\right)^{2}} + \\frac{9}{\\left(x_{1} + 3 x_{2} - 180\\right)^{2}} + \\frac{1}{\\left(x_{1} + x_{2} - 90\\right)^{2}} + \\frac{1}{x_{2}^{2}}$"
      ],
      "text/plain": [
       "(3*x1 + x2 - 240)**(-2) + 9/(x1 + 3*x2 - 180)**2 + (x1 + x2 - 90)**(-2) + x2**(-2)"
      ]
     },
     "execution_count": 48,
     "metadata": {},
     "output_type": "execute_result"
    }
   ],
   "source": [
    "from sympy import diff, symbols, exp, log\n",
    "# 定义变量\n",
    "x1, x2, t = symbols('x1 x2 t')\n",
    "# 定义目标函数\n",
    "func = t * (-70*x1-30*x2) - log(-3*x1-9*x2+540) - log(-5*x1 - 5*x2+450) - log(-9*x1-3*x2+720) - log(-x1) - log(-x2)\n",
    "# 求导\n",
    "diff(func, x2, 1)\n",
    "diff(func, x1, x1)\n",
    "diff(func, x1, x2)\n",
    "diff(func, x2, x1)\n",
    "diff(func, x2, x2)"
   ]
  },
  {
   "cell_type": "code",
   "execution_count": null,
   "id": "38b10dc3-2a3a-41fb-ac7a-7fe776d0eb4b",
   "metadata": {},
   "outputs": [],
   "source": []
  },
  {
   "cell_type": "code",
   "execution_count": 23,
   "id": "75b75654-8b7b-49d3-9cdd-193396cff677",
   "metadata": {},
   "outputs": [],
   "source": [
    "# 内点法代码实现"
   ]
  },
  {
   "cell_type": "code",
   "execution_count": 49,
   "id": "f8210f35-31f0-4911-9893-27f0cbac8221",
   "metadata": {},
   "outputs": [],
   "source": [
    "import numpy as np\n",
    "import time\n",
    "\n",
    "def gradient(x1, x2, t):\n",
    "    \"\"\"计算目标函数在x处的一阶导数（雅克比矩阵）\"\"\"\n",
    "    j1 = -70 * t + 3 / (-3 * x1 - 9 * x2 + 540) + 5 / (-5 * x1 - 5 * x2 + 450) + 9 / (-9 * x1 - 3 * x2 + 720) - 1 / x1\n",
    "    j2 = -30 * t + 9 / (-3 * x1 - 9 * x2 + 540) + 5 / (-5 * x1 - 5 * x2 + 450) + 3 / (-9 * x1 - 3 * x2 + 720) - 1 / x2\n",
    "    return np.asmatrix([j1, j2]).T\n",
    "\n",
    "def hessian(x1, x2):\n",
    "    \"\"\"计算目标函数在x处的二阶导数（海塞矩阵）\"\"\"\n",
    "    x1, x2 = float(x1), float(x2)\n",
    "    h11 = 9 / (3 * x1 + x2 - 240) ** 2 + (x1 + 3 * x2 - 180) ** (-2) + (x1 + x2 - 90) ** (-2) + x1 ** (-2)\n",
    "    h12 = 3 / (3 * x1 + x2 - 240) ** 2 + 3 / (x1 + 3 * x2 - 180) ** 2 + (x1 + x2 - 90) ** (-2)\n",
    "    h21 = 3 / (3 * x1 + x2 - 240) ** 2 + 3 / (x1 + 3 * x2 - 180) ** 2 + (x1 + x2 - 90) ** (-2)\n",
    "    h22 = (3 * x1 + x2 - 240) ** (-2) + 9 / (x1 + 3 * x2 - 180) ** 2 + (x1 + x2 - 90) ** (-2) + x2 ** (-2)\n",
    "    return np.asmatrix([[h11, h12], [h21, h22]])\n",
    "\n",
    "def invertible(H):\n",
    "    \"\"\"求海塞矩阵的逆矩阵\"\"\"\n",
    "    H_1 = np.linalg.inv(H)\n",
    "    return H_1\n",
    "\n",
    "def main():\n",
    "    x = np.asmatrix(np.array([10, 10])).T  # x 是牛顿法的初始迭代值\n",
    "    t = 0.00001  # t 是指示函数的中的t\n",
    "    eps = 0.01  # 迭代停止的误差\n",
    "    iter_cnt = 0  # 记录迭代的次数\n",
    "    while iter_cnt < 20:\n",
    "        iter_cnt += 1\n",
    "        J = gradient(x[0, 0], x[1, 0], t)\n",
    "        H = hessian(x[0, 0], x[1, 0])\n",
    "        H_1 = np.linalg.inv(H)  # 还塞矩阵的逆\n",
    "        x_new = x - H_1 * J  # 牛顿法公式\n",
    "        error = np.linalg.norm(x_new - x)  # 求2范数，判断迭代效果\n",
    "        print('迭代次数是：%d, x1=%.2f, x2=%.2f, 误差是：%.2f' % (iter_cnt, x_new[0, 0], x_new[1, 0], error))\n",
    "        x = x_new\n",
    "        if error < eps:\n",
    "            break\n",
    "        time.sleep(1)\n",
    "    # 打印结果\n",
    "    print(\"目标函数值是：%.2f\" % float(70 * x[0, 0] + 30 * x[1, 0]))"
   ]
  },
  {
   "cell_type": "code",
   "execution_count": 50,
   "id": "bdd949e2-7147-4f8c-95a9-dc79beadb9e6",
   "metadata": {},
   "outputs": [
    {
     "name": "stdout",
     "output_type": "stream",
     "text": [
      "迭代次数是：1, x1=15.91, x2=15.34, 误差是：7.96\n",
      "迭代次数是：2, x1=20.13, x2=18.19, 误差是：5.09\n",
      "迭代次数是：3, x1=21.00, x2=18.33, 误差是：0.88\n",
      "迭代次数是：4, x1=21.02, x2=18.32, 误差是：0.03\n",
      "迭代次数是：5, x1=21.02, x2=18.32, 误差是：0.00\n",
      "目标函数值是：2021.17\n"
     ]
    }
   ],
   "source": [
    "main()"
   ]
  },
  {
   "cell_type": "code",
   "execution_count": 57,
   "id": "63854f74-94b2-4051-934c-5c6b8f788620",
   "metadata": {},
   "outputs": [
    {
     "data": {
      "text/plain": [
       "matrix([[10],\n",
       "        [10]])"
      ]
     },
     "execution_count": 57,
     "metadata": {},
     "output_type": "execute_result"
    }
   ],
   "source": [
    "np.asmatrix(np.array([10, 10])).T"
   ]
  },
  {
   "cell_type": "code",
   "execution_count": null,
   "id": "b9ea57bb-17b7-4b7d-802f-95cefb9e85b6",
   "metadata": {},
   "outputs": [],
   "source": []
  }
 ],
 "metadata": {
  "kernelspec": {
   "display_name": "Python 3",
   "language": "python",
   "name": "python3"
  },
  "language_info": {
   "codemirror_mode": {
    "name": "ipython",
    "version": 3
   },
   "file_extension": ".py",
   "mimetype": "text/x-python",
   "name": "python",
   "nbconvert_exporter": "python",
   "pygments_lexer": "ipython3",
   "version": "3.7.6"
  },
  "toc": {
   "base_numbering": 1,
   "nav_menu": {},
   "number_sections": true,
   "sideBar": true,
   "skip_h1_title": false,
   "title_cell": "Table of Contents",
   "title_sidebar": "Contents",
   "toc_cell": false,
   "toc_position": {},
   "toc_section_display": true,
   "toc_window_display": false
  },
  "toc-autonumbering": true
 },
 "nbformat": 4,
 "nbformat_minor": 5
}
